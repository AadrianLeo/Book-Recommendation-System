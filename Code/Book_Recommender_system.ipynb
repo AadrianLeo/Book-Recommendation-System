{
 "cells": [
  {
   "cell_type": "markdown",
   "id": "760f3ce7-9235-4dad-bac7-6435729d2e98",
   "metadata": {},
   "source": [
    "# Recommender System for Goodbooks‑10K  \n",
    "**Rating Prediction & Top‑K Recommendation**\n",
    "\n",
    "---\n",
    "\n",
    "## 1. Data Processing\n",
    "\n",
    "### 1.1 Imports & Settings\n",
    "```python"
   ]
  },
  {
   "cell_type": "code",
   "execution_count": 7,
   "id": "ff6bc05d-3bf8-4fea-8d08-a8ba782a820f",
   "metadata": {},
   "outputs": [],
   "source": [
    "import pandas as pd\n",
    "import numpy as np\n",
    "from scipy.sparse import csr_matrix\n",
    "from sklearn.model_selection import train_test_split\n",
    "# for evaluation\n",
    "from sklearn.metrics import mean_squared_error\n",
    "import matplotlib.pyplot as plt"
   ]
  },
  {
   "cell_type": "markdown",
   "id": "3e8f8408-a913-4df2-8b30-f45673fa1a87",
   "metadata": {},
   "source": [
    "Load Book"
   ]
  },
  {
   "cell_type": "code",
   "execution_count": 8,
   "id": "8e022bf6-2ff5-495a-9de0-27ec78e492fa",
   "metadata": {},
   "outputs": [
    {
     "name": "stdout",
     "output_type": "stream",
     "text": [
      "Books:   (10000, 23)\n",
      "Ratings: (981756, 3)\n"
     ]
    }
   ],
   "source": [
    "books   = pd.read_csv('../Data/books.csv')\n",
    "ratings = pd.read_csv('../Data/ratings.csv')\n",
    "print(f\"Books:   {books.shape}\")\n",
    "print(f\"Ratings: {ratings.shape}\")"
   ]
  },
  {
   "cell_type": "markdown",
   "id": "684f7f1d-b04b-4adc-b5b5-51957829f90e",
   "metadata": {},
   "source": [
    "Quick EDA"
   ]
  },
  {
   "cell_type": "code",
   "execution_count": 9,
   "id": "0ae93115-f331-43cd-a92b-63194d4889c3",
   "metadata": {},
   "outputs": [
    {
     "data": {
      "text/html": [
       "<div>\n",
       "<style scoped>\n",
       "    .dataframe tbody tr th:only-of-type {\n",
       "        vertical-align: middle;\n",
       "    }\n",
       "\n",
       "    .dataframe tbody tr th {\n",
       "        vertical-align: top;\n",
       "    }\n",
       "\n",
       "    .dataframe thead th {\n",
       "        text-align: right;\n",
       "    }\n",
       "</style>\n",
       "<table border=\"1\" class=\"dataframe\">\n",
       "  <thead>\n",
       "    <tr style=\"text-align: right;\">\n",
       "      <th></th>\n",
       "      <th>id</th>\n",
       "      <th>book_id</th>\n",
       "      <th>best_book_id</th>\n",
       "      <th>work_id</th>\n",
       "      <th>books_count</th>\n",
       "      <th>isbn</th>\n",
       "      <th>isbn13</th>\n",
       "      <th>authors</th>\n",
       "      <th>original_publication_year</th>\n",
       "      <th>original_title</th>\n",
       "      <th>...</th>\n",
       "      <th>ratings_count</th>\n",
       "      <th>work_ratings_count</th>\n",
       "      <th>work_text_reviews_count</th>\n",
       "      <th>ratings_1</th>\n",
       "      <th>ratings_2</th>\n",
       "      <th>ratings_3</th>\n",
       "      <th>ratings_4</th>\n",
       "      <th>ratings_5</th>\n",
       "      <th>image_url</th>\n",
       "      <th>small_image_url</th>\n",
       "    </tr>\n",
       "  </thead>\n",
       "  <tbody>\n",
       "    <tr>\n",
       "      <th>0</th>\n",
       "      <td>1</td>\n",
       "      <td>2767052</td>\n",
       "      <td>2767052</td>\n",
       "      <td>2792775</td>\n",
       "      <td>272</td>\n",
       "      <td>439023483</td>\n",
       "      <td>9.780439e+12</td>\n",
       "      <td>Suzanne Collins</td>\n",
       "      <td>2008.0</td>\n",
       "      <td>The Hunger Games</td>\n",
       "      <td>...</td>\n",
       "      <td>4780653</td>\n",
       "      <td>4942365</td>\n",
       "      <td>155254</td>\n",
       "      <td>66715</td>\n",
       "      <td>127936</td>\n",
       "      <td>560092</td>\n",
       "      <td>1481305</td>\n",
       "      <td>2706317</td>\n",
       "      <td>https://images.gr-assets.com/books/1447303603m...</td>\n",
       "      <td>https://images.gr-assets.com/books/1447303603s...</td>\n",
       "    </tr>\n",
       "    <tr>\n",
       "      <th>1</th>\n",
       "      <td>2</td>\n",
       "      <td>3</td>\n",
       "      <td>3</td>\n",
       "      <td>4640799</td>\n",
       "      <td>491</td>\n",
       "      <td>439554934</td>\n",
       "      <td>9.780440e+12</td>\n",
       "      <td>J.K. Rowling, Mary GrandPré</td>\n",
       "      <td>1997.0</td>\n",
       "      <td>Harry Potter and the Philosopher's Stone</td>\n",
       "      <td>...</td>\n",
       "      <td>4602479</td>\n",
       "      <td>4800065</td>\n",
       "      <td>75867</td>\n",
       "      <td>75504</td>\n",
       "      <td>101676</td>\n",
       "      <td>455024</td>\n",
       "      <td>1156318</td>\n",
       "      <td>3011543</td>\n",
       "      <td>https://images.gr-assets.com/books/1474154022m...</td>\n",
       "      <td>https://images.gr-assets.com/books/1474154022s...</td>\n",
       "    </tr>\n",
       "    <tr>\n",
       "      <th>2</th>\n",
       "      <td>3</td>\n",
       "      <td>41865</td>\n",
       "      <td>41865</td>\n",
       "      <td>3212258</td>\n",
       "      <td>226</td>\n",
       "      <td>316015849</td>\n",
       "      <td>9.780316e+12</td>\n",
       "      <td>Stephenie Meyer</td>\n",
       "      <td>2005.0</td>\n",
       "      <td>Twilight</td>\n",
       "      <td>...</td>\n",
       "      <td>3866839</td>\n",
       "      <td>3916824</td>\n",
       "      <td>95009</td>\n",
       "      <td>456191</td>\n",
       "      <td>436802</td>\n",
       "      <td>793319</td>\n",
       "      <td>875073</td>\n",
       "      <td>1355439</td>\n",
       "      <td>https://images.gr-assets.com/books/1361039443m...</td>\n",
       "      <td>https://images.gr-assets.com/books/1361039443s...</td>\n",
       "    </tr>\n",
       "    <tr>\n",
       "      <th>3</th>\n",
       "      <td>4</td>\n",
       "      <td>2657</td>\n",
       "      <td>2657</td>\n",
       "      <td>3275794</td>\n",
       "      <td>487</td>\n",
       "      <td>61120081</td>\n",
       "      <td>9.780061e+12</td>\n",
       "      <td>Harper Lee</td>\n",
       "      <td>1960.0</td>\n",
       "      <td>To Kill a Mockingbird</td>\n",
       "      <td>...</td>\n",
       "      <td>3198671</td>\n",
       "      <td>3340896</td>\n",
       "      <td>72586</td>\n",
       "      <td>60427</td>\n",
       "      <td>117415</td>\n",
       "      <td>446835</td>\n",
       "      <td>1001952</td>\n",
       "      <td>1714267</td>\n",
       "      <td>https://images.gr-assets.com/books/1361975680m...</td>\n",
       "      <td>https://images.gr-assets.com/books/1361975680s...</td>\n",
       "    </tr>\n",
       "    <tr>\n",
       "      <th>4</th>\n",
       "      <td>5</td>\n",
       "      <td>4671</td>\n",
       "      <td>4671</td>\n",
       "      <td>245494</td>\n",
       "      <td>1356</td>\n",
       "      <td>743273567</td>\n",
       "      <td>9.780743e+12</td>\n",
       "      <td>F. Scott Fitzgerald</td>\n",
       "      <td>1925.0</td>\n",
       "      <td>The Great Gatsby</td>\n",
       "      <td>...</td>\n",
       "      <td>2683664</td>\n",
       "      <td>2773745</td>\n",
       "      <td>51992</td>\n",
       "      <td>86236</td>\n",
       "      <td>197621</td>\n",
       "      <td>606158</td>\n",
       "      <td>936012</td>\n",
       "      <td>947718</td>\n",
       "      <td>https://images.gr-assets.com/books/1490528560m...</td>\n",
       "      <td>https://images.gr-assets.com/books/1490528560s...</td>\n",
       "    </tr>\n",
       "  </tbody>\n",
       "</table>\n",
       "<p>5 rows × 23 columns</p>\n",
       "</div>"
      ],
      "text/plain": [
       "   id  book_id  best_book_id  work_id  books_count       isbn        isbn13  \\\n",
       "0   1  2767052       2767052  2792775          272  439023483  9.780439e+12   \n",
       "1   2        3             3  4640799          491  439554934  9.780440e+12   \n",
       "2   3    41865         41865  3212258          226  316015849  9.780316e+12   \n",
       "3   4     2657          2657  3275794          487   61120081  9.780061e+12   \n",
       "4   5     4671          4671   245494         1356  743273567  9.780743e+12   \n",
       "\n",
       "                       authors  original_publication_year  \\\n",
       "0              Suzanne Collins                     2008.0   \n",
       "1  J.K. Rowling, Mary GrandPré                     1997.0   \n",
       "2              Stephenie Meyer                     2005.0   \n",
       "3                   Harper Lee                     1960.0   \n",
       "4          F. Scott Fitzgerald                     1925.0   \n",
       "\n",
       "                             original_title  ... ratings_count  \\\n",
       "0                          The Hunger Games  ...       4780653   \n",
       "1  Harry Potter and the Philosopher's Stone  ...       4602479   \n",
       "2                                  Twilight  ...       3866839   \n",
       "3                     To Kill a Mockingbird  ...       3198671   \n",
       "4                          The Great Gatsby  ...       2683664   \n",
       "\n",
       "  work_ratings_count  work_text_reviews_count  ratings_1  ratings_2  \\\n",
       "0            4942365                   155254      66715     127936   \n",
       "1            4800065                    75867      75504     101676   \n",
       "2            3916824                    95009     456191     436802   \n",
       "3            3340896                    72586      60427     117415   \n",
       "4            2773745                    51992      86236     197621   \n",
       "\n",
       "   ratings_3  ratings_4  ratings_5  \\\n",
       "0     560092    1481305    2706317   \n",
       "1     455024    1156318    3011543   \n",
       "2     793319     875073    1355439   \n",
       "3     446835    1001952    1714267   \n",
       "4     606158     936012     947718   \n",
       "\n",
       "                                           image_url  \\\n",
       "0  https://images.gr-assets.com/books/1447303603m...   \n",
       "1  https://images.gr-assets.com/books/1474154022m...   \n",
       "2  https://images.gr-assets.com/books/1361039443m...   \n",
       "3  https://images.gr-assets.com/books/1361975680m...   \n",
       "4  https://images.gr-assets.com/books/1490528560m...   \n",
       "\n",
       "                                     small_image_url  \n",
       "0  https://images.gr-assets.com/books/1447303603s...  \n",
       "1  https://images.gr-assets.com/books/1474154022s...  \n",
       "2  https://images.gr-assets.com/books/1361039443s...  \n",
       "3  https://images.gr-assets.com/books/1361975680s...  \n",
       "4  https://images.gr-assets.com/books/1490528560s...  \n",
       "\n",
       "[5 rows x 23 columns]"
      ]
     },
     "metadata": {},
     "output_type": "display_data"
    },
    {
     "data": {
      "text/html": [
       "<div>\n",
       "<style scoped>\n",
       "    .dataframe tbody tr th:only-of-type {\n",
       "        vertical-align: middle;\n",
       "    }\n",
       "\n",
       "    .dataframe tbody tr th {\n",
       "        vertical-align: top;\n",
       "    }\n",
       "\n",
       "    .dataframe thead th {\n",
       "        text-align: right;\n",
       "    }\n",
       "</style>\n",
       "<table border=\"1\" class=\"dataframe\">\n",
       "  <thead>\n",
       "    <tr style=\"text-align: right;\">\n",
       "      <th></th>\n",
       "      <th>book_id</th>\n",
       "      <th>user_id</th>\n",
       "      <th>rating</th>\n",
       "    </tr>\n",
       "  </thead>\n",
       "  <tbody>\n",
       "    <tr>\n",
       "      <th>0</th>\n",
       "      <td>1</td>\n",
       "      <td>314</td>\n",
       "      <td>5</td>\n",
       "    </tr>\n",
       "    <tr>\n",
       "      <th>1</th>\n",
       "      <td>1</td>\n",
       "      <td>439</td>\n",
       "      <td>3</td>\n",
       "    </tr>\n",
       "    <tr>\n",
       "      <th>2</th>\n",
       "      <td>1</td>\n",
       "      <td>588</td>\n",
       "      <td>5</td>\n",
       "    </tr>\n",
       "    <tr>\n",
       "      <th>3</th>\n",
       "      <td>1</td>\n",
       "      <td>1169</td>\n",
       "      <td>4</td>\n",
       "    </tr>\n",
       "    <tr>\n",
       "      <th>4</th>\n",
       "      <td>1</td>\n",
       "      <td>1185</td>\n",
       "      <td>4</td>\n",
       "    </tr>\n",
       "  </tbody>\n",
       "</table>\n",
       "</div>"
      ],
      "text/plain": [
       "   book_id  user_id  rating\n",
       "0        1      314       5\n",
       "1        1      439       3\n",
       "2        1      588       5\n",
       "3        1     1169       4\n",
       "4        1     1185       4"
      ]
     },
     "metadata": {},
     "output_type": "display_data"
    },
    {
     "name": "stdout",
     "output_type": "stream",
     "text": [
      "rating\n",
      "1     19575\n",
      "2     63231\n",
      "3    248623\n",
      "4    357366\n",
      "5    292961\n",
      "Name: count, dtype: int64\n"
     ]
    },
    {
     "data": {
      "image/png": "[encoded data removed]",
      "text/plain": [
       "<Figure size 640x480 with 1 Axes>"
      ]
     },
     "metadata": {},
     "output_type": "display_data"
    },
    {
     "name": "stdout",
     "output_type": "stream",
     "text": [
      "Ratings per user: count    53424.000000\n",
      "mean        18.376685\n",
      "std         26.268690\n",
      "min          2.000000\n",
      "25%          3.000000\n",
      "50%          8.000000\n",
      "75%         22.000000\n",
      "max        200.000000\n",
      "Name: count, dtype: float64\n",
      "Ratings per book: count    10000.000000\n",
      "mean        98.175600\n",
      "std          5.690167\n",
      "min          8.000000\n",
      "25%         99.000000\n",
      "50%        100.000000\n",
      "75%        100.000000\n",
      "max        100.000000\n",
      "Name: count, dtype: float64\n"
     ]
    }
   ],
   "source": [
    "# Preview\n",
    "display(books.head())\n",
    "display(ratings.head())\n",
    "\n",
    "# Rating distribution\n",
    "print(ratings['rating'].value_counts().sort_index())\n",
    "plt.hist(ratings['rating'], bins=np.arange(1,7)-0.5); plt.title('Rating Histogram'); plt.show()\n",
    "\n",
    "# Activity per user / book\n",
    "print(\"Ratings per user:\", ratings['user_id'].value_counts().describe())\n",
    "print(\"Ratings per book:\", ratings['book_id'].value_counts().describe())\n"
   ]
  },
  {
   "cell_type": "markdown",
   "id": "9493257f-30fc-4511-a20a-a9f4e5d408f8",
   "metadata": {},
   "source": [
    "Filter & Re‑index"
   ]
  },
  {
   "cell_type": "code",
   "execution_count": 10,
   "id": "5bae728e-3acd-4257-97a5-afc72a69acca",
   "metadata": {},
   "outputs": [
    {
     "name": "stdout",
     "output_type": "stream",
     "text": [
      "After filtering: 35710 users & 10000 books\n"
     ]
    }
   ],
   "source": [
    "# Filter out users/books with <5 ratings\n",
    "min_u, min_i = 5, 5\n",
    "u_counts = ratings['user_id'].value_counts()\n",
    "i_counts = ratings['book_id'].value_counts()\n",
    "ratings = ratings[ratings['user_id'].isin(u_counts[u_counts>=min_u].index)\n",
    "                  & ratings['book_id'].isin(i_counts[i_counts>=min_i].index)]\n",
    "\n",
    "# Map to 0…N−1\n",
    "user_map = {u:idx for idx,u in enumerate(ratings['user_id'].unique())}\n",
    "book_map = {i:idx for idx,i in enumerate(ratings['book_id'].unique())}\n",
    "ratings['uidx'] = ratings['user_id'].map(user_map)\n",
    "ratings['iidx'] = ratings['book_id'].map(book_map)\n",
    "\n",
    "n_users, n_items = len(user_map), len(book_map)\n",
    "print(\"After filtering:\", n_users, \"users &\", n_items, \"books\")\n"
   ]
  },
  {
   "cell_type": "markdown",
   "id": "57ef2d26-fe54-451c-adbe-7910da593658",
   "metadata": {},
   "source": [
    "Train/Test Split & Sparse Matrix"
   ]
  },
  {
   "cell_type": "code",
   "execution_count": 11,
   "id": "13a2a9cd-5874-45e9-af45-267ce25a9b90",
   "metadata": {},
   "outputs": [],
   "source": [
    "train_df, test_df = train_test_split(\n",
    "    ratings[['uidx','iidx','rating']],\n",
    "    test_size=0.2, random_state=42\n",
    ")\n",
    "\n",
    "train_mat = csr_matrix(\n",
    "    (train_df['rating'], (train_df['uidx'], train_df['iidx'])),\n",
    "    shape=(n_users, n_items)\n",
    ")\n"
   ]
  },
  {
   "cell_type": "markdown",
   "id": "4d8a4057-9c27-41f9-b509-c1dfe2054d2d",
   "metadata": {},
   "source": [
    "Approach 1: User‑Based Collaborative Filtering"
   ]
  },
  {
   "cell_type": "code",
   "execution_count": 12,
   "id": "5f4545f5-3259-4f06-bfc0-4673fb174bf9",
   "metadata": {},
   "outputs": [],
   "source": [
    "from sklearn.metrics.pairwise import pairwise_distances\n",
    "\n",
    "# -- 1) Compute full-length user_means array --\n",
    "# initialize with zeros\n",
    "user_means = np.zeros(n_users, dtype=float)\n",
    "\n",
    "# compute means only for users in train_df\n",
    "grp = train_df.groupby('uidx')['rating'].mean()\n",
    "user_means[grp.index.values] = grp.values\n",
    "\n",
    "# (If any user had zero training ratings, user_means will stay 0.)\n",
    "\n",
    "# -- 2) Convert to dense (for centering) & subtract means --\n",
    "train_dense = train_mat.toarray().astype(float)     # shape (n_users, n_items)\n",
    "train_centered = train_dense - user_means[:, None]  # now shapes match\n",
    "\n",
    "# -- 3) Compute Pearson similarity via cosine on centered data --\n",
    "#    Pearson(u,v) = cosine( (r_u - mean_u), (r_v - mean_v) )\n",
    "user_sim = 1 - pairwise_distances(train_centered, metric='cosine')\n",
    "np.fill_diagonal(user_sim, 0)  # zero out self-similarity\n"
   ]
  },
  {
   "cell_type": "markdown",
   "id": "9b182a2c-9874-4e20-aa65-2a4158a76a33",
   "metadata": {},
   "source": [
    "Predict Function"
   ]
  },
  {
   "cell_type": "code",
   "execution_count": 13,
   "id": "8778c2e8-a351-4e3f-9f9f-7f0ad0e7c623",
   "metadata": {},
   "outputs": [],
   "source": [
    "def predict_ubcf(u, i, k=20):\n",
    "    sims = user_sim[u]\n",
    "    # find top-k similar users who rated i\n",
    "    rated = train_mat[:,i].nonzero()[0]\n",
    "    candidates = [(v, sims[v]) for v in rated]\n",
    "    topk = sorted(candidates, key=lambda x: -abs(x[1]))[:k]\n",
    "    num = sum(sim*(train_mat[v,i]-user_means[v]) for v,sim in topk)\n",
    "    den = sum(abs(sim) for _,sim in topk)\n",
    "    return user_means[u] + (num/den if den>0 else 0)\n",
    "\n",
    "# Vectorize for full matrix prediction if desired...\n"
   ]
  },
  {
   "cell_type": "markdown",
   "id": "429de6ce-7f03-4786-907e-114efa8ef54f",
   "metadata": {},
   "source": [
    "Evaluate Rating Prediction (RMSE)"
   ]
  },
  {
   "cell_type": "code",
   "execution_count": 15,
   "id": "bbaca829-582c-49d0-888a-2319042290b3",
   "metadata": {},
   "outputs": [
    {
     "name": "stdout",
     "output_type": "stream",
     "text": [
      "UBCF RMSE: 0.730211047149951\n"
     ]
    }
   ],
   "source": [
    "preds = [predict_ubcf(u,i) for u,i,r in zip(test_df.uidx, test_df.iidx, test_df.rating)]\n",
    "rmse_ubcf = mean_squared_error(test_df.rating, preds)\n",
    "print(\"UBCF RMSE:\", rmse_ubcf)\n"
   ]
  },
  {
   "cell_type": "code",
   "execution_count": 16,
   "id": "3916e094-4d73-41d9-b443-01ad8718eda4",
   "metadata": {},
   "outputs": [],
   "source": [
    "def top_k_recs(u, k=10):\n",
    "    scores = [predict_ubcf(u,i) for i in range(n_items)]\n",
    "    seen = set(train_df[train_df.uidx==u].iidx)\n",
    "    unseen_scores = [(i,s) for i,s in enumerate(scores) if i not in seen]\n",
    "    return [i for i,_ in sorted(unseen_scores, key=lambda x:-x[1])[:k]]\n",
    "\n",
    "# Compute Precision@10 for a random sample of users\n",
    "# (You’ll need to define functions for precision@k using test_df as ground truth.)\n"
   ]
  },
  {
   "cell_type": "markdown",
   "id": "0d3acd65",
   "metadata": {},
   "source": [
    "Approach 2: Matrix Factorization (ALS or SVD)\n",
    "Using implicit’s ALS"
   ]
  },
  {
   "cell_type": "code",
   "execution_count": 18,
   "id": "63fe7790",
   "metadata": {},
   "outputs": [
    {
     "name": "stderr",
     "output_type": "stream",
     "text": [
      "b:\\BHT Study\\SEM 2\\Data Science WorkflowApplications\\Project\\venv\\Lib\\site-packages\\implicit\\cpu\\als.py:95: RuntimeWarning: OpenBLAS is configured to use 16 threads. It is highly recommended to disable its internal threadpool by setting the environment variable 'OPENBLAS_NUM_THREADS=1' or by calling 'threadpoolctl.threadpool_limits(1, \"blas\")'. Having OpenBLAS use a threadpool can lead to severe performance issues here.\n",
      "  check_blas_config()\n",
      "b:\\BHT Study\\SEM 2\\Data Science WorkflowApplications\\Project\\venv\\Lib\\site-packages\\implicit\\utils.py:164: ParameterWarning: Method expects CSR input, and was passed csc_matrix instead. Converting to CSR took 0.011302471160888672 seconds\n",
      "  warnings.warn(\n"
     ]
    },
    {
     "data": {
      "application/vnd.jupyter.widget-view+json": {
       "model_id": "be9f2cb9512746eea7fdd4a8b6096ede",
       "version_major": 2,
       "version_minor": 0
      },
      "text/plain": [
       "  0%|          | 0/15 [00:00<?, ?it/s]"
      ]
     },
     "metadata": {},
     "output_type": "display_data"
    }
   ],
   "source": [
    "import implicit\n",
    "\n",
    "# implicit expects item‑user matrix\n",
    "als_model = implicit.als.AlternatingLeastSquares(factors=50, regularization=0.1, iterations=15)\n",
    "als_model.fit(train_mat.T * 15)   # confidence weighting\n",
    "\n",
    "# Predict single rating: dot(U[u], V[i])\n",
    "user_vecs = als_model.user_factors\n",
    "item_vecs = als_model.item_factors"
   ]
  },
  {
   "cell_type": "code",
   "execution_count": 21,
   "id": "7082451e",
   "metadata": {},
   "outputs": [],
   "source": [
    "valid_users = set(range(user_vecs.shape[0]))\n",
    "valid_items = set(range(item_vecs.shape[0]))\n",
    "\n",
    "# Filter test set to known users and items\n",
    "filtered_test_df = test_df[\n",
    "    test_df['uidx'].isin(valid_users) & test_df['iidx'].isin(valid_items)\n",
    "]\n"
   ]
  },
  {
   "cell_type": "code",
   "execution_count": 22,
   "id": "e808c2bc",
   "metadata": {},
   "outputs": [
    {
     "name": "stdout",
     "output_type": "stream",
     "text": [
      "MF RMSE: 3.825174069819084\n"
     ]
    }
   ],
   "source": [
    "preds_mf = [predict_mf(u, i) for u, i in zip(filtered_test_df.uidx, filtered_test_df.iidx)]\n",
    "\n",
    "# Use RMSE (or root_mean_squared_error)\n",
    "from sklearn.metrics import root_mean_squared_error\n",
    "rmse_mf = root_mean_squared_error(filtered_test_df.rating, preds_mf)\n",
    "print(\"MF RMSE:\", rmse_mf)\n"
   ]
  },
  {
   "cell_type": "code",
   "execution_count": 23,
   "id": "e195d189",
   "metadata": {},
   "outputs": [],
   "source": [
    "def top_k_mf(u, k=10):\n",
    "    scores = item_vecs.dot(user_vecs[u])\n",
    "    seen = set(train_df[train_df.uidx==u].iidx)\n",
    "    unseen = [(i,s) for i,s in enumerate(scores) if i not in seen]\n",
    "    return [i for i,_ in sorted(unseen, key=lambda x:-x[1])[:k]]\n"
   ]
  },
  {
   "cell_type": "code",
   "execution_count": 24,
   "id": "9aae92d5",
   "metadata": {},
   "outputs": [
    {
     "name": "stdout",
     "output_type": "stream",
     "text": [
      "UBCF RMSE = 0.7302\n",
      "MF   RMSE = 3.8252\n"
     ]
    }
   ],
   "source": [
    "print(f\"UBCF RMSE = {rmse_ubcf:.4f}\")\n",
    "print(f\"MF   RMSE = {rmse_mf:.4f}\")\n"
   ]
  },
  {
   "cell_type": "code",
   "execution_count": null,
   "id": "73f7230d",
   "metadata": {},
   "outputs": [],
   "source": []
  }
 ],
 "metadata": {
  "kernelspec": {
   "display_name": "venv",
   "language": "python",
   "name": "python3"
  },
  "language_info": {
   "codemirror_mode": {
    "name": "ipython",
    "version": 3
   },
   "file_extension": ".py",
   "mimetype": "text/x-python",
   "name": "python",
   "nbconvert_exporter": "python",
   "pygments_lexer": "ipython3",
   "version": "3.11.9"
  }
 },
 "nbformat": 4,
 "nbformat_minor": 5
}
